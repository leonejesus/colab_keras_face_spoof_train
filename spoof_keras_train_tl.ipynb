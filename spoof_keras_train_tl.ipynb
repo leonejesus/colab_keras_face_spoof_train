{
  "nbformat": 4,
  "nbformat_minor": 0,
  "metadata": {
    "colab": {
      "name": "spoof_keras_train_tl.ipynb",
      "provenance": [],
      "collapsed_sections": [],
      "mount_file_id": "1c7dD0nMpLmykm5K7Ya46-xkNzN4F4oFj",
      "authorship_tag": "ABX9TyNekcoNJkYEjmRKQUsFcIup",
      "include_colab_link": true
    },
    "kernelspec": {
      "name": "python3",
      "display_name": "Python 3"
    },
    "accelerator": "GPU"
  },
  "cells": [
    {
      "cell_type": "markdown",
      "metadata": {
        "id": "view-in-github",
        "colab_type": "text"
      },
      "source": [
        "<a href=\"https://colab.research.google.com/github/leonejesus/colab_keras_face_spoof_train/blob/main/spoof_keras_train_tl.ipynb\" target=\"_parent\"><img src=\"https://colab.research.google.com/assets/colab-badge.svg\" alt=\"Open In Colab\"/></a>"
      ]
    },
    {
      "cell_type": "code",
      "metadata": {
        "id": "1Y2Kapz2cTQI"
      },
      "source": [
        "model_name = \"siw\"\n",
        "database = \"siw\"\n",
        "exp = \"xp3\"\n",
        "\n",
        "in_kaggle = True\n",
        "train_mode = False\n",
        "test_mode = True"
      ],
      "execution_count": 3,
      "outputs": []
    },
    {
      "cell_type": "code",
      "metadata": {
        "id": "0VSsWRRmck4g"
      },
      "source": [
        "if in_kaggle:\n",
        "  from google.colab import files\n",
        "  !pip install -q kaggle\n",
        "\n",
        "  uploaded = files.upload()\n",
        "\n",
        "  !ls\n",
        "  !mkdir .kaggle\n",
        "  !mv kaggle.json .kaggle\n",
        "  !mv .kaggle /root/\n",
        "  !kaggle datasets download -d leonejesus/$model_name-images\n",
        "\n",
        "  !unzip $model_name-images.zip\n",
        "  !rm $model_name-images.zip"
      ],
      "execution_count": null,
      "outputs": []
    },
    {
      "cell_type": "code",
      "metadata": {
        "id": "TNds6df0Fz59",
        "colab": {
          "base_uri": "https://localhost:8080/"
        },
        "outputId": "73967933-22e1-410d-cf01-35c8cc2612f7"
      },
      "source": [
        "%cd drive/My\\ Drive/Colab_Notebooks/"
      ],
      "execution_count": 5,
      "outputs": [
        {
          "output_type": "stream",
          "text": [
            "/content/drive/My Drive/Colab_Notebooks\n"
          ],
          "name": "stdout"
        }
      ]
    },
    {
      "cell_type": "code",
      "metadata": {
        "id": "dDnKpZmIGB1-",
        "colab": {
          "base_uri": "https://localhost:8080/"
        },
        "outputId": "c1356aba-7d71-434f-e788-bd24707f7dca"
      },
      "source": [
        "from tensorflow.keras.preprocessing.image import ImageDataGenerator\n",
        "from tensorflow.keras.applications import ResNet50\n",
        "from tensorflow.keras.applications.resnet50 import preprocess_input\n",
        "from tensorflow.keras import Model, layers\n",
        "\n",
        "batch_size=64\n",
        "\n",
        "if train_mode:\n",
        "  datagen = ImageDataGenerator(horizontal_flip=True, preprocessing_function=preprocess_input)\n",
        "  if in_kaggle:\n",
        "    disk_path=\"../../../\"\n",
        "    train_it = datagen.flow_from_directory(disk_path+model_name+'_images_train/train', class_mode='categorical', batch_size=batch_size, target_size=(224,224))\n",
        "    val_it = datagen.flow_from_directory(disk_path+model_name+'_images_train/val', class_mode='categorical', target_size=(224,224))\n",
        "  else:\n",
        "    train_it = datagen.flow_from_directory('spoof_datasets/'+model_name+'_images/train', class_mode='categorical', batch_size=batch_size, target_size=(224,224))\n",
        "    val_it = datagen.flow_from_directory('spoof_datasets/'+model_name+'_images/val', class_mode='categorical', target_size=(224,224))\n",
        "\n",
        "if test_mode:\n",
        "  datagen = ImageDataGenerator(preprocessing_function=preprocess_input)\n",
        "  if in_kaggle:\n",
        "    disk_path=\"../../../\"\n",
        "    test_it = datagen.flow_from_directory(disk_path+model_name+'_images_test/test/', class_mode='categorical', target_size=(224,224), shuffle=False)\n",
        "  else:\n",
        "    test_it = datagen.flow_from_directory(\"spoof_datasets/\"+database+\"_images/test/\", class_mode='categorical', target_size=(224,224), shuffle=False)\n",
        "  test_it.reset()"
      ],
      "execution_count": 6,
      "outputs": [
        {
          "output_type": "stream",
          "text": [
            "Found 83200 images belonging to 2 classes.\n"
          ],
          "name": "stdout"
        }
      ]
    },
    {
      "cell_type": "code",
      "metadata": {
        "id": "PeSdwc1mwTK4",
        "colab": {
          "base_uri": "https://localhost:8080/"
        },
        "outputId": "b22740e6-7b6e-4102-f1b3-c88e24f5ecd0"
      },
      "source": [
        "conv_base = ResNet50(\n",
        "    include_top=False,\n",
        "    weights='imagenet',\n",
        "    classes=2\n",
        "    )\n",
        "\n",
        "#for layer in conv_base.layers:\n",
        "#    layer.trainable = False\n",
        "\n",
        "x = conv_base.output\n",
        "x = layers.GlobalAveragePooling2D()(x)\n",
        "x = layers.Dense(512, activation='sigmoid', name = \"extractor\")(x) \n",
        "predictions = layers.Dense(2, activation='softmax')(x)\n",
        "model = Model(conv_base.input, predictions)"
      ],
      "execution_count": 7,
      "outputs": [
        {
          "output_type": "stream",
          "text": [
            "Downloading data from https://storage.googleapis.com/tensorflow/keras-applications/resnet/resnet50_weights_tf_dim_ordering_tf_kernels_notop.h5\n",
            "94773248/94765736 [==============================] - 1s 0us/step\n"
          ],
          "name": "stdout"
        }
      ]
    },
    {
      "cell_type": "code",
      "metadata": {
        "id": "gz99D-YDz0OH"
      },
      "source": [
        "if train_mode:\n",
        "  from tensorflow.keras.optimizers import Adam\n",
        "  from tensorflow.keras.callbacks import ModelCheckpoint\n",
        "\n",
        "  optimizer = Adam()\n",
        "  model.compile(loss='categorical_crossentropy',\n",
        "                optimizer=optimizer,\n",
        "                metrics=['acc']\n",
        "                )\n",
        "  checkpoint_filepath = \"./\"+model_name+\"_results/models/res50_tl.{epoch:02d}-{val_acc:.2f}_2.h5\"\n",
        "  model_checkpoint_callback = ModelCheckpoint(filepath=checkpoint_filepath,\n",
        "                                              save_weights_only=True,\n",
        "                                              monitor='val_acc',\n",
        "                                              mode='max',\n",
        "                                              save_best_only=True\n",
        "                                              )"
      ],
      "execution_count": 8,
      "outputs": []
    },
    {
      "cell_type": "code",
      "metadata": {
        "id": "dtuoIYJbz5ab"
      },
      "source": [
        "if train_mode:\n",
        "  history = model.fit(train_it,\n",
        "                      steps_per_epoch=len(train_it.filepaths) // batch_size,\n",
        "                      epochs=30,\n",
        "                      validation_data=val_it,\n",
        "                      validation_steps=len(val_it.filepaths) // batch_size,\n",
        "                      callbacks=[model_checkpoint_callback]\n",
        "                      )"
      ],
      "execution_count": 9,
      "outputs": []
    },
    {
      "cell_type": "code",
      "metadata": {
        "id": "gTsUMTGhmYw7"
      },
      "source": [
        "# from keras.utils.vis_utils import plot_model\n",
        "# plot_model(model, to_file='model_plot.png', show_shapes=True, show_layer_names=True)"
      ],
      "execution_count": 10,
      "outputs": []
    },
    {
      "cell_type": "code",
      "metadata": {
        "id": "7y2kE5gWixaP"
      },
      "source": [
        "if test_mode and not train_mode:\n",
        "\n",
        "  if model_name == \"rufs\":\n",
        "    model.load_weights(model_name+\"_results/models/res50_tl.11-0.88_2.h5\")\n",
        "  elif model_name == \"replay\":\n",
        "    model = load_weights(model_name+\"_results/models/res50_tl.24-0.97_xp2.hdf5\")\n",
        "  elif model_name == \"nuaa\":\n",
        "    model = load_weights(model_name+\"_results/models/res50_tl.12-1.00_xp2.hdf5\")\n",
        "  elif model_name == \"siw\":\n",
        "    model.load_weights(model_name+\"_results/models/res50_tl.10-0.98_2.h5\")\n",
        "  elif model_name == \"oulu\":\n",
        "    model = load_weights(model_name+\"_results/models/res50_tl.09-0.98_xp2.hdf5\")\n",
        "  elif model_name == \"rose\":\n",
        "    model = load_weights(model_name+\"_results/models/res50_tl.21-0.97_xp2.hdf5\")\n",
        "  else:\n",
        "    model = load_weights(model_name+\"_results/models/res50_tl.14-1.00_xp2.hdf5\")"
      ],
      "execution_count": 11,
      "outputs": []
    },
    {
      "cell_type": "code",
      "metadata": {
        "id": "Y8OWudt9jBxf",
        "colab": {
          "base_uri": "https://localhost:8080/"
        },
        "outputId": "98b31e0d-e38e-47f3-ba78-47f8777f4a0b"
      },
      "source": [
        "if test_mode:\n",
        "  import numpy as np\n",
        "\n",
        "  pred = model.predict_generator(test_it, steps = len(test_it), verbose = 1)\n",
        "\n",
        "  print(model_name+\"_results/res50_tl_model_result/\"+exp+\"/\"+database+\".txt\")\n",
        "  file_object = open(model_name+\"_results/res50_tl_model_result/\"+exp+\"/\"+database+\".txt\", 'w')\n",
        "  predicted_class_indices = np.argmax(pred, axis = 1)\n",
        "  cont = 0\n",
        "  for it in range(0, len(test_it.filepaths)):\n",
        "    file_object.write(\"{} {} {:d} {}\\n\".format(predicted_class_indices[it], \n",
        "                                              pred[it][predicted_class_indices[it]],\n",
        "                                              (test_it.filepaths[it].find(\"/spoof/\") != -1),\n",
        "                                              test_it.filepaths[it][test_it.filepaths[it].find(\"/test/\")+6:]))\n",
        "    if predicted_class_indices[it] == (test_it.filepaths[it].find(\"/spoof/\") != -1):\n",
        "      cont+=1\n",
        "  print((cont/len(test_it.filepaths)*100))\n",
        "  file_object.close()"
      ],
      "execution_count": 12,
      "outputs": [
        {
          "output_type": "stream",
          "text": [
            "/usr/local/lib/python3.6/dist-packages/tensorflow/python/keras/engine/training.py:1905: UserWarning: `Model.predict_generator` is deprecated and will be removed in a future version. Please use `Model.predict`, which supports generators.\n",
            "  warnings.warn('`Model.predict_generator` is deprecated and '\n"
          ],
          "name": "stderr"
        },
        {
          "output_type": "stream",
          "text": [
            "2600/2600 [==============================] - 314s 118ms/step\n",
            "siw_results/res50_tl_model_result/xp3/siw.txt\n",
            "96.85697115384615\n"
          ],
          "name": "stdout"
        }
      ]
    }
  ]
}