{
  "nbformat": 4,
  "nbformat_minor": 0,
  "metadata": {
    "colab": {
      "name": "replay_train_tl.ipynb",
      "provenance": [],
      "collapsed_sections": [],
      "mount_file_id": "1c7dD0nMpLmykm5K7Ya46-xkNzN4F4oFj",
      "authorship_tag": "ABX9TyO2rg1IMliYQ79bLuqfaL6w",
      "include_colab_link": true
    },
    "kernelspec": {
      "name": "python3",
      "display_name": "Python 3"
    },
    "accelerator": "GPU"
  },
  "cells": [
    {
      "cell_type": "markdown",
      "metadata": {
        "id": "view-in-github",
        "colab_type": "text"
      },
      "source": [
        "<a href=\"https://colab.research.google.com/github/leonejesus/colab_keras_face_spoof_train/blob/main/spoof_keras_train_tl.ipynb\" target=\"_parent\"><img src=\"https://colab.research.google.com/assets/colab-badge.svg\" alt=\"Open In Colab\"/></a>"
      ]
    },
    {
      "cell_type": "code",
      "metadata": {
        "id": "TNds6df0Fz59",
        "colab": {
          "base_uri": "https://localhost:8080/"
        },
        "outputId": "ae6a6075-635e-4f29-aa89-d55c0dc9a4a7"
      },
      "source": [
        "%cd drive/My\\ Drive/Colab_Notebooks/"
      ],
      "execution_count": null,
      "outputs": [
        {
          "output_type": "stream",
          "text": [
            "/content/drive/My Drive/Colab_Notebooks\n"
          ],
          "name": "stdout"
        }
      ]
    },
    {
      "cell_type": "code",
      "metadata": {
        "id": "dDnKpZmIGB1-",
        "colab": {
          "base_uri": "https://localhost:8080/"
        },
        "outputId": "df420269-9d44-46a5-f02b-c8071e27ce40"
      },
      "source": [
        "from tensorflow.keras.preprocessing.image import ImageDataGenerator\n",
        "from tensorflow.keras.applications import ResNet50\n",
        "from tensorflow.keras.applications.resnet50 import preprocess_input\n",
        "from tensorflow.keras import Model, layers\n",
        "\n",
        "model_name = \"rufs\"\n",
        "\n",
        "batch_size=64\n",
        "\n",
        "# create generator\n",
        "datagen = ImageDataGenerator(horizontal_flip=True, preprocessing_function=preprocess_input)\n",
        "# prepare an iterators for each dataset\n",
        "train_it = datagen.flow_from_directory('spoof_datasets/'+model_name+'_images/train', class_mode='categorical', batch_size=batch_size, target_size=(224,224))\n",
        "val_it = datagen.flow_from_directory('spoof_datasets/'+model_name+'_images/val', class_mode='categorical', target_size=(224,224))"
      ],
      "execution_count": null,
      "outputs": [
        {
          "output_type": "stream",
          "text": [
            "Found 696 images belonging to 2 classes.\n",
            "Found 167 images belonging to 2 classes.\n"
          ],
          "name": "stdout"
        }
      ]
    },
    {
      "cell_type": "code",
      "metadata": {
        "id": "ZyUwulViwIgG",
        "colab": {
          "base_uri": "https://localhost:8080/"
        },
        "outputId": "21de36f0-5683-43bc-de09-515465856a37"
      },
      "source": [
        "conv_base = ResNet50(\n",
        "    include_top=False,\n",
        "    weights='imagenet',\n",
        "    classes=2\n",
        "    )"
      ],
      "execution_count": null,
      "outputs": [
        {
          "output_type": "stream",
          "text": [
            "Downloading data from https://storage.googleapis.com/tensorflow/keras-applications/resnet/resnet50_weights_tf_dim_ordering_tf_kernels_notop.h5\n",
            "94773248/94765736 [==============================] - 0s 0us/step\n"
          ],
          "name": "stdout"
        }
      ]
    },
    {
      "cell_type": "code",
      "metadata": {
        "id": "07Gpjq8LwMiZ"
      },
      "source": [
        "#for layer in conv_base.layers:\n",
        "#    layer.trainable = False"
      ],
      "execution_count": null,
      "outputs": []
    },
    {
      "cell_type": "code",
      "metadata": {
        "id": "PeSdwc1mwTK4"
      },
      "source": [
        "x = conv_base.output\n",
        "x = layers.GlobalAveragePooling2D()(x)\n",
        "x = layers.Dense(512, activation='sigmoid', name = \"extractor\")(x) \n",
        "predictions = layers.Dense(2, activation='softmax')(x)\n",
        "model = Model(conv_base.input, predictions)"
      ],
      "execution_count": null,
      "outputs": []
    },
    {
      "cell_type": "code",
      "metadata": {
        "id": "gz99D-YDz0OH"
      },
      "source": [
        "from tensorflow.keras.optimizers import Adam\n",
        "optimizer = Adam()\n",
        "model.compile(loss='categorical_crossentropy',\n",
        "              optimizer=optimizer,\n",
        "              metrics=['acc']\n",
        "              )"
      ],
      "execution_count": null,
      "outputs": []
    },
    {
      "cell_type": "code",
      "metadata": {
        "id": "g8XVpUYDFLsK"
      },
      "source": [
        "from tensorflow.keras.callbacks import ModelCheckpoint\n",
        "\n",
        "checkpoint_filepath = \"./\"+model_name+\"_results/models/res50_tl.{epoch:02d}-{val_acc:.2f}_2.h5\"\n",
        "#checkpoint_filepath = \"./res50_tl.hdf5\"\n",
        "model_checkpoint_callback = ModelCheckpoint(filepath=checkpoint_filepath,\n",
        "                                            save_weights_only=False,\n",
        "                                            monitor='val_acc',\n",
        "                                            mode='max',\n",
        "                                            save_best_only=True\n",
        "                                            )"
      ],
      "execution_count": null,
      "outputs": []
    },
    {
      "cell_type": "code",
      "metadata": {
        "id": "dtuoIYJbz5ab",
        "colab": {
          "base_uri": "https://localhost:8080/"
        },
        "outputId": "3b58eb88-7226-4ec2-a6d0-fa578198b56d"
      },
      "source": [
        "history = model.fit(train_it,\n",
        "                    steps_per_epoch=len(train_it.filepaths) // batch_size,\n",
        "                    epochs=30,\n",
        "                    validation_data=val_it,\n",
        "                    validation_steps=len(val_it.filepaths) // batch_size,\n",
        "                    callbacks=[model_checkpoint_callback]\n",
        "                    )"
      ],
      "execution_count": null,
      "outputs": [
        {
          "output_type": "stream",
          "text": [
            "Epoch 1/30\n",
            "10/10 [==============================] - 192s 18s/step - loss: 1.1663 - acc: 0.6072 - val_loss: 0.9284 - val_acc: 0.5312\n",
            "Epoch 2/30\n",
            "10/10 [==============================] - 17s 2s/step - loss: 0.4757 - acc: 0.7793 - val_loss: 0.6727 - val_acc: 0.5781\n",
            "Epoch 3/30\n",
            "10/10 [==============================] - 12s 1s/step - loss: 0.4048 - acc: 0.8125 - val_loss: 0.7897 - val_acc: 0.4219\n",
            "Epoch 4/30\n",
            "10/10 [==============================] - 10s 965ms/step - loss: 0.2391 - acc: 0.8954 - val_loss: 3.1467 - val_acc: 0.5000\n",
            "Epoch 5/30\n",
            "10/10 [==============================] - 8s 746ms/step - loss: 0.1956 - acc: 0.9209 - val_loss: 3.6240 - val_acc: 0.3750\n",
            "Epoch 6/30\n",
            "10/10 [==============================] - 7s 735ms/step - loss: 0.1678 - acc: 0.9394 - val_loss: 2.5697 - val_acc: 0.5312\n",
            "Epoch 7/30\n",
            "10/10 [==============================] - 7s 730ms/step - loss: 0.1190 - acc: 0.9621 - val_loss: 3.1536 - val_acc: 0.4062\n",
            "Epoch 8/30\n",
            "10/10 [==============================] - 7s 713ms/step - loss: 0.0703 - acc: 0.9753 - val_loss: 0.3902 - val_acc: 0.8281\n",
            "Epoch 9/30\n",
            "10/10 [==============================] - 7s 699ms/step - loss: 0.0698 - acc: 0.9772 - val_loss: 2.5521 - val_acc: 0.6562\n",
            "Epoch 10/30\n",
            "10/10 [==============================] - 7s 726ms/step - loss: 0.0586 - acc: 0.9762 - val_loss: 1.6605 - val_acc: 0.6562\n",
            "Epoch 11/30\n",
            "10/10 [==============================] - 7s 692ms/step - loss: 0.0823 - acc: 0.9664 - val_loss: 2.2726 - val_acc: 0.6094\n",
            "Epoch 12/30\n",
            "10/10 [==============================] - 7s 690ms/step - loss: 0.0816 - acc: 0.9662 - val_loss: 1.1488 - val_acc: 0.7969\n",
            "Epoch 13/30\n",
            "10/10 [==============================] - 7s 699ms/step - loss: 0.0660 - acc: 0.9706 - val_loss: 3.5495 - val_acc: 0.4531\n",
            "Epoch 14/30\n",
            "10/10 [==============================] - 7s 698ms/step - loss: 0.1210 - acc: 0.9580 - val_loss: 2.4806 - val_acc: 0.5312\n",
            "Epoch 15/30\n",
            "10/10 [==============================] - 7s 703ms/step - loss: 0.0631 - acc: 0.9778 - val_loss: 0.6530 - val_acc: 0.7344\n",
            "Epoch 16/30\n",
            "10/10 [==============================] - 7s 707ms/step - loss: 0.0330 - acc: 0.9874 - val_loss: 0.7343 - val_acc: 0.7969\n",
            "Epoch 17/30\n",
            "10/10 [==============================] - 7s 710ms/step - loss: 0.0202 - acc: 0.9950 - val_loss: 0.9549 - val_acc: 0.7812\n",
            "Epoch 18/30\n",
            "10/10 [==============================] - 7s 712ms/step - loss: 0.0955 - acc: 0.9682 - val_loss: 3.6081 - val_acc: 0.4688\n",
            "Epoch 19/30\n",
            "10/10 [==============================] - 7s 710ms/step - loss: 0.0698 - acc: 0.9681 - val_loss: 3.5085 - val_acc: 0.4844\n",
            "Epoch 20/30\n",
            "10/10 [==============================] - 7s 708ms/step - loss: 0.0367 - acc: 0.9805 - val_loss: 3.8826 - val_acc: 0.4062\n",
            "Epoch 21/30\n",
            "10/10 [==============================] - 7s 713ms/step - loss: 0.0334 - acc: 0.9848 - val_loss: 4.4469 - val_acc: 0.4375\n",
            "Epoch 22/30\n",
            "10/10 [==============================] - 7s 704ms/step - loss: 0.0219 - acc: 0.9953 - val_loss: 1.9819 - val_acc: 0.7188\n",
            "Epoch 23/30\n",
            "10/10 [==============================] - 7s 699ms/step - loss: 0.0198 - acc: 0.9926 - val_loss: 1.6129 - val_acc: 0.7500\n",
            "Epoch 24/30\n",
            "10/10 [==============================] - 7s 697ms/step - loss: 0.0248 - acc: 0.9929 - val_loss: 1.0386 - val_acc: 0.8125\n",
            "Epoch 25/30\n",
            "10/10 [==============================] - 7s 698ms/step - loss: 0.0278 - acc: 0.9939 - val_loss: 2.6413 - val_acc: 0.7656\n",
            "Epoch 26/30\n",
            "10/10 [==============================] - 7s 710ms/step - loss: 0.0300 - acc: 0.9899 - val_loss: 2.9884 - val_acc: 0.6562\n",
            "Epoch 27/30\n",
            "10/10 [==============================] - 7s 704ms/step - loss: 0.0545 - acc: 0.9733 - val_loss: 2.3765 - val_acc: 0.7812\n",
            "Epoch 28/30\n",
            "10/10 [==============================] - 7s 705ms/step - loss: 0.0137 - acc: 0.9965 - val_loss: 1.6533 - val_acc: 0.7500\n",
            "Epoch 29/30\n",
            "10/10 [==============================] - 7s 703ms/step - loss: 0.0413 - acc: 0.9811 - val_loss: 2.3751 - val_acc: 0.6719\n",
            "Epoch 30/30\n",
            "10/10 [==============================] - 7s 718ms/step - loss: 0.0176 - acc: 0.9930 - val_loss: 1.6731 - val_acc: 0.8438\n"
          ],
          "name": "stdout"
        }
      ]
    },
    {
      "cell_type": "code",
      "metadata": {
        "id": "gTsUMTGhmYw7"
      },
      "source": [
        "# from keras.utils.vis_utils import plot_model\n",
        "# plot_model(model, to_file='model_plot.png', show_shapes=True, show_layer_names=True)"
      ],
      "execution_count": null,
      "outputs": []
    }
  ]
}